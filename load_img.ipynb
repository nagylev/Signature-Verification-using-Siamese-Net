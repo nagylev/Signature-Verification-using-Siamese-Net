{
 "cells": [
  {
   "cell_type": "code",
   "execution_count": 1,
   "id": "4f91da2e",
   "metadata": {
    "scrolled": true
   },
   "outputs": [],
   "source": [
    "import matplotlib.pyplot as plt\n",
    "import glob\n",
    "import numpy as np\n",
    "\n",
    "#image scanner\n",
    "import matplotlib.image as mpimg\n",
    "\n",
    "class DataLoader():\n",
    "    def __init__(self):\n",
    "        self.genuine_images=[]\n",
    "        self.forged_images=[]\n",
    "    \n",
    "    def load(self):\n",
    "        #loading 5 test images\n",
    "        for folder_path in glob.glob('data/Train/*'):\n",
    "            counter=0\n",
    "            signer_genuine=[]\n",
    "            signer_forged=[]\n",
    "            for img_path in glob.glob(folder_path + '/*.png'):\n",
    "                if img_path.find(\"Genuine\") != -1:\n",
    "                    signer_genuine.append(mpimg.imread(img_path))\n",
    "                if img_path.find(\"Forged\") != -1:\n",
    "                    signer_forged.append(mpimg.imread(img_path))\n",
    "            self.genuine_images.append(signer_genuine)\n",
    "            self.forged_images.append(signer_forged)\n",
    "            \n",
    "    def getGenuine(self):\n",
    "        return self.genuine_images\n",
    "    \n",
    "    def getForged(self):\n",
    "        return self.forged_images\n",
    "    "
   ]
  },
  {
   "cell_type": "code",
   "execution_count": 2,
   "id": "a4f5a954",
   "metadata": {},
   "outputs": [
    {
     "data": {
      "text/plain": [
       "3"
      ]
     },
     "execution_count": 2,
     "metadata": {},
     "output_type": "execute_result"
    }
   ],
   "source": [
    "loader = DataLoader()\n",
    "loader.load()\n",
    "genuine_images = loader.getGenuine()\n",
    "forged_images = loader.getForged()\n",
    "\n",
    "len(genuine_images)"
   ]
  },
  {
   "cell_type": "code",
   "execution_count": 3,
   "id": "0f888276",
   "metadata": {
    "scrolled": true
   },
   "outputs": [
    {
     "name": "stdout",
     "output_type": "stream",
     "text": [
      "<class 'numpy.ndarray'>\n"
     ]
    },
    {
     "data": {
      "image/png": "[encoded data removed]",
      "text/plain": [
       "<Figure size 432x288 with 1 Axes>"
      ]
     },
     "metadata": {
      "needs_background": "light"
     },
     "output_type": "display_data"
    }
   ],
   "source": [
    "def rgb2gray(rgb):\n",
    "    return np.dot(rgb[...,:3], [0.2989, 0.5870, 0.1140])\n",
    "\n",
    "\n",
    "img = genuine_images[2][2]\n",
    "\n",
    "print(type(img))\n",
    "\n",
    "gray = rgb2gray(img)\n",
    "plt.imshow(gray, cmap=plt.get_cmap('gray'), vmin=0, vmax=1)\n",
    "plt.show()"
   ]
  },
  {
   "cell_type": "code",
   "execution_count": 4,
   "id": "f3df743c",
   "metadata": {},
   "outputs": [
    {
     "name": "stdout",
     "output_type": "stream",
     "text": [
      "<class 'numpy.ndarray'>\n"
     ]
    }
   ],
   "source": [
    "def createPairs():\n",
    "    genuine_pairs = []\n",
    "    forged_pairs = []\n",
    "    pair =[]\n",
    "    for signer in range(len(genuine_images)):\n",
    "        for i in range(len(genuine_images[signer])-1):\n",
    "            for j in range(i+1,len(genuine_images[signer])):                         \n",
    "                genuine_pairs.append([genuine_images[signer][i],genuine_images[signer][j]])\n",
    "                \n",
    "    for signer in range(len(genuine_images)):\n",
    "        for i in range(len(genuine_images[signer])):\n",
    "            for j in range(len(forged_images[signer])):\n",
    "                forged_pairs.append([genuine_images[signer][i],genuine_images[signer][j]])\n",
    "                pair.append((i,j))\n",
    "    \n",
    "    return genuine_pairs,forged_pairs\n",
    "\n",
    "genuine_pairs,forged_pairs = createPairs()\n",
    "\n",
    "print(type(genuine_pairs[1][1]))\n",
    "img = genuine_pairs[1][0]\n"
   ]
  },
  {
   "cell_type": "code",
   "execution_count": 6,
   "id": "a401c4cc",
   "metadata": {},
   "outputs": [],
   "source": [
    "import csv\n",
    "\n",
    "filename = \"data/genuine_genuine_data.csv\"\n",
    "    \n",
    "with open(filename, 'w') as csvfile: \n",
    "    csvwriter = csv.writer(csvfile)  \n",
    "        \n",
    "    csvwriter.writerows(genuine_pairs)\n",
    "\n",
    "filename = \"data/genuine_forged_data.csv\"\n",
    "    \n",
    "with open(filename, 'w') as csvfile: \n",
    "    csvwriter = csv.writer(csvfile)  \n",
    "        \n",
    "    csvwriter.writerows(forged_pairs)   \n",
    "    "
   ]
  },
  {
   "cell_type": "code",
   "execution_count": null,
   "id": "78108564",
   "metadata": {},
   "outputs": [],
   "source": []
  }
 ],
 "metadata": {
  "kernelspec": {
   "display_name": "Python 3 (ipykernel)",
   "language": "python",
   "name": "python3"
  },
  "language_info": {
   "codemirror_mode": {
    "name": "ipython",
    "version": 3
   },
   "file_extension": ".py",
   "mimetype": "text/x-python",
   "name": "python",
   "nbconvert_exporter": "python",
   "pygments_lexer": "ipython3",
   "version": "3.9.1"
  }
 },
 "nbformat": 4,
 "nbformat_minor": 5
}
