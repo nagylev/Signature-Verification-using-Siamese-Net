{
 "cells": [
  {
   "cell_type": "code",
   "execution_count": 4,
   "id": "3421bfc8",
   "metadata": {},
   "outputs": [],
   "source": [
    "import torch"
   ]
  },
  {
   "cell_type": "code",
   "execution_count": 5,
   "id": "433aa9ad",
   "metadata": {},
   "outputs": [],
   "source": [
    "class SigSiameseNet(torch.nn.Module):\n",
    "    \n",
    "    \n",
    "    '''\n",
    "    stride= eltolas merteke\n",
    "    dialation= mennyi közt hagyjon\n",
    "    \n",
    "    kernel_size= hagy kockabol lesz egy uj kocka\n",
    "    kimenet_mérete= bemenet-kernel_size+1\n",
    "    \n",
    "    kernelek_száma= 96, ennyi darab uj \"kép\" fog összejönni\n",
    "    \n",
    "    padding= körül lehet venni  a képet egy csupa 0 paddingel egy a konvolúció után +1 soros es oszlopos lesz\n",
    "    0000\n",
    "    0230\n",
    "    0510\n",
    "    0000\n",
    "    \n",
    "    '''\n",
    "    \n",
    "    #input image [462x1133]\n",
    "    \n",
    "    def __init__(self):\n",
    "        super()._init()\n",
    "         \n",
    "        \n",
    "        self.cnnModel= nn.Sequential(\n",
    "            #input shape megallapitasa (img_w, img_h,1)\n",
    "            nn.Conv2d(1,96,kernel_size=11, stride=1), #(kimenet_mérete= bemenet-kernel_size+1, mindket dimenzioban) [452,1123]\n",
    "            nn.ReLU(), #relu aktivációs fv\n",
    "            nn.LocalResponseNorm(size=5, k=2, alpha=1e-4, beta=0.75,stride=1), #batch_normaliazation padding=(2,2)lehet meg kene ide\n",
    "            nn.MaxPool2d(3, stride=2), #valszeg a fele lesz a kimenet meg nem tudom. [226,561]\n",
    "            \n",
    "            nn.Conv2d(96,256,kernel_size=5,stride=1,padding=2, padding_mode='zeros'),#(marad +4 a padding miatt, -5 kernel size +1 )\n",
    "            nn.ReLU(),\n",
    "            nn.LocalResponseNorm(size=5, k=2, alpha=1e-4, beta=0.75,stride=1), \n",
    "            nn.MaxPool2d(3, stride=2),#[113,280]\n",
    "            nn.Dropout2d(p=0.3),\n",
    "            \n",
    "            nn.Conv2d(256,384,kernel_size= 3,stride=1,padding=1,padding_mode='zeros'),#(marad +2 a padding miatt, -3 kernel size +1 )\n",
    "            nn.ReLU(),\n",
    "            nn.Conv2d(384,256,kernel_size= 3,stride=1,padding=1,padding_mode='zeros'),\n",
    "            nn.ReLU(),\n",
    "            nn.MaxPool2d(3, stride=2), #[56,140]\n",
    "            nn.Dropout2d(p=0.3),\n",
    "            \n",
    "            nn.Flatten(),\n",
    "            nn.Linear(2007040, 1024),\n",
    "            nn.ReLU(),\n",
    "            nn.Dropout2d(p=0.5),\n",
    "            \n",
    "            nn.Linear(1024,128),\n",
    "            nn.ReLU()\n",
    "        \n",
    "        )\n",
    "        \n",
    "    def forward(self,in1,in2):\n",
    "        in1= self.cnnModel(in1)\n",
    "        in2= self.cnnModel(in2)\n",
    "        return in1, in2"
   ]
  },
  {
   "cell_type": "code",
   "execution_count": null,
   "id": "0dd1d137",
   "metadata": {},
   "outputs": [],
   "source": []
  }
 ],
 "metadata": {
  "kernelspec": {
   "display_name": "Python 3 (ipykernel)",
   "language": "python",
   "name": "python3"
  },
  "language_info": {
   "codemirror_mode": {
    "name": "ipython",
    "version": 3
   },
   "file_extension": ".py",
   "mimetype": "text/x-python",
   "name": "python",
   "nbconvert_exporter": "python",
   "pygments_lexer": "ipython3",
   "version": "3.9.1"
  }
 },
 "nbformat": 4,
 "nbformat_minor": 5
}
