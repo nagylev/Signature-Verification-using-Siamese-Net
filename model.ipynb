{
 "cells": [
  {
   "cell_type": "code",
   "execution_count": 3,
   "id": "3421bfc8",
   "metadata": {},
   "outputs": [],
   "source": [
    "import torch\n"
   ]
  },
  {
   "cell_type": "code",
   "execution_count": 4,
   "id": "c8a82ddc",
   "metadata": {},
   "outputs": [
    {
     "ename": "IndentationError",
     "evalue": "expected an indented block (Temp/ipykernel_14460/4025267437.py, line 1)",
     "output_type": "error",
     "traceback": [
      "\u001b[1;36m  File \u001b[1;32m\"C:\\Users\\Marci\\AppData\\Local\\Temp/ipykernel_14460/4025267437.py\"\u001b[1;36m, line \u001b[1;32m1\u001b[0m\n\u001b[1;33m    class SigSiameseNet(nn):\u001b[0m\n\u001b[1;37m                            ^\u001b[0m\n\u001b[1;31mIndentationError\u001b[0m\u001b[1;31m:\u001b[0m expected an indented block\n"
     ]
    }
   ],
   "source": [
    "class SigSiameseNet(nn):\n",
    "    \n",
    "    \n",
    "    '''\n",
    "    stride= eltolas merteke\n",
    "    dialation= mennyi közt hagyjon\n",
    "    \n",
    "    kernel_size= hagy kockabol lesz egy uj kocka\n",
    "    kimenet_mérete= bemenet-kernel_size+1\n",
    "    \n",
    "    kernelek_száma= 96, ennyi darab uj \"kép\" fog összejönni\n",
    "    \n",
    "    padding= körül lehet venni  a képet egy csupa 0 paddingel egy a konvolúció után +1 soros es oszlopos lesz\n",
    "    0000\n",
    "    0230\n",
    "    0510\n",
    "    0000\n",
    "    \n",
    "    '''\n",
    "    \n",
    "    def _init(self)_:\n",
    "        super()._init()\n",
    "        \n",
    "        \n",
    "        \n",
    "        \n",
    "        \n",
    "        self.cnnModel= new Sequential(\n",
    "            #input shape megallapitasa (img_w, img_h,1)\n",
    "            nn.Conv2D(1,96,kernel_size=11, stride=1), #(kimenet_mérete= bemenet-kernel_size+1, mindket dimenzioban)\n",
    "            nn.ReLU(), #relu aktivációs fv\n",
    "            nn.LocalResponseNorm(size=5, k=2, alpha=1e-4, beta=0.75,stride=1), #batch_normaliazation padding=(2,2)lehet meg kene ide\n",
    "            nn.MaxPool2d(3, stride=2), #maxpooling reteg \n",
    "            \n",
    "        \n",
    "        )\n",
    "        \n",
    "    def forward(self):"
   ]
  },
  {
   "cell_type": "code",
   "execution_count": null,
   "id": "da50ff4e",
   "metadata": {},
   "outputs": [],
   "source": []
  }
 ],
 "metadata": {
  "kernelspec": {
   "display_name": "Python 3 (ipykernel)",
   "language": "python",
   "name": "python3"
  },
  "language_info": {
   "codemirror_mode": {
    "name": "ipython",
    "version": 3
   },
   "file_extension": ".py",
   "mimetype": "text/x-python",
   "name": "python",
   "nbconvert_exporter": "python",
   "pygments_lexer": "ipython3",
   "version": "3.9.7"
  }
 },
 "nbformat": 4,
 "nbformat_minor": 5
}
