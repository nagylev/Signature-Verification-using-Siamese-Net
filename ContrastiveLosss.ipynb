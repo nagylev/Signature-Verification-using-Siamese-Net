{
 "cells": [
  {
   "cell_type": "code",
   "execution_count": 3,
   "id": "665930a2",
   "metadata": {},
   "outputs": [],
   "source": [
    "import math\n",
    "import torch\n",
    "class ContrastiveLoss(torch.nn.Module):\n",
    "    \n",
    "    def __init__(self,alfa,beta,margin = 1):\n",
    "        super().__init__()\n",
    "        self.alfa = alfa\n",
    "        self.beta = beta\n",
    "        self.margin = margin\n",
    "    \n",
    "    def calcLoss(self,s1,s2,y):\n",
    "        \n",
    "        distance = torch.cdist(s1,s2)  #.pairwise_distance(x1, x2)\n",
    "        loss= self.alfa*(1-y)*distance**2 + self.beta*y*(max(0, self.margin-distance))**2\n",
    "        mean_loss = torch.mean(loss, dtype = torch.float)\n",
    "        \n",
    "        return mean_loss\n",
    "        \n",
    "    "
   ]
  },
  {
   "cell_type": "code",
   "execution_count": null,
   "id": "5b2f1c6d",
   "metadata": {},
   "outputs": [],
   "source": []
  }
 ],
 "metadata": {
  "kernelspec": {
   "display_name": "Python 3 (ipykernel)",
   "language": "python",
   "name": "python3"
  },
  "language_info": {
   "codemirror_mode": {
    "name": "ipython",
    "version": 3
   },
   "file_extension": ".py",
   "mimetype": "text/x-python",
   "name": "python",
   "nbconvert_exporter": "python",
   "pygments_lexer": "ipython3",
   "version": "3.9.7"
  }
 },
 "nbformat": 4,
 "nbformat_minor": 5
}
