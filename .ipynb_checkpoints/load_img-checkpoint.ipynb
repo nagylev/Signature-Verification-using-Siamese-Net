{
 "cells": [
  {
   "cell_type": "code",
   "execution_count": 59,
   "id": "4f91da2e",
   "metadata": {
    "scrolled": true
   },
   "outputs": [],
   "source": [
    "import matplotlib.pyplot as plt\n",
    "import glob\n",
    "\n",
    "\n",
    "#image scanner\n",
    "import matplotlib.image as mpimg\n",
    "\n",
    "class DataLoader():\n",
    "    def __init__(self):\n",
    "        self.genuine_images=[]\n",
    "        self.forged_images=[]\n",
    "    \n",
    "    def load(self):\n",
    "        #loading 5 test images\n",
    "        for folder_path in glob.glob('data/Train/*'):\n",
    "            counter=0\n",
    "            signer_genuine=[]\n",
    "            signer_forged=[]\n",
    "            for img_path in glob.glob(folder_path + '/*.png'):\n",
    "                if img_path.find(\"Genuine\") != -1:\n",
    "                    signer_genuine.append(mpimg.imread(img_path))\n",
    "                if img_path.find(\"Forged\") != -1:\n",
    "                    signer_forged.append(mpimg.imread(img_path))\n",
    "            self.genuine_images.append(signer_genuine)\n",
    "            self.forged_images.append(signer_forged)\n",
    "            \n",
    "    def getGenuine(self):\n",
    "        return self.genuine_images\n",
    "    \n",
    "#img1 = mpimg.imread('data/Test/03-01-Genuine-0-1-1.png')\n",
    "\n",
    "#plt.axis(\"off\")\n",
    "#for image in genuine_images:\n",
    "    #plt.imshow(image.squeeze())\n",
    "    #plt.show()\n",
    "    \n",
    "\n",
    "#plt.imshow(img1.squeeze(), cmap=\"gray\")\n",
    "#plt.show()"
   ]
  },
  {
   "cell_type": "code",
   "execution_count": 60,
   "id": "a4f5a954",
   "metadata": {},
   "outputs": [
    {
     "data": {
      "text/plain": [
       "3"
      ]
     },
     "execution_count": 60,
     "metadata": {},
     "output_type": "execute_result"
    }
   ],
   "source": [
    "loader = DataLoader()\n",
    "loader.load()\n",
    "genuine_images = loader.getGenuine()\n",
    "\n",
    "len(genuine_images)"
   ]
  },
  {
   "cell_type": "code",
   "execution_count": null,
   "id": "0f888276",
   "metadata": {},
   "outputs": [],
   "source": []
  }
 ],
 "metadata": {
  "kernelspec": {
   "display_name": "Python 3 (ipykernel)",
   "language": "python",
   "name": "python3"
  },
  "language_info": {
   "codemirror_mode": {
    "name": "ipython",
    "version": 3
   },
   "file_extension": ".py",
   "mimetype": "text/x-python",
   "name": "python",
   "nbconvert_exporter": "python",
   "pygments_lexer": "ipython3",
   "version": "3.9.1"
  }
 },
 "nbformat": 4,
 "nbformat_minor": 5
}
